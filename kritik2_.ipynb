{
 "cells": [
  {
   "cell_type": "code",
   "execution_count": 2,
   "id": "7c964bda-9908-42c2-b103-4fc08cb07349",
   "metadata": {},
   "outputs": [
    {
     "name": "stdin",
     "output_type": "stream",
     "text": [
      "The value of a=  0\n",
      "The value of b=  1\n"
     ]
    },
    {
     "name": "stdout",
     "output_type": "stream",
     "text": [
      "0.26987266543437727\n"
     ]
    }
   ],
   "source": [
    "import math\n",
    "tolerance= 0.0000000001\n",
    "a=float(input(\"The value of a= \"))\n",
    "b=float(input(\"The value of b= \"))\n",
    "\n",
    "def f(x):\n",
    "    if x== 0:\n",
    "        x += tolerance\n",
    "    return ((math.e**x)+(math.log(x)))\n",
    "\n",
    "def bisection_method(f,a,b):\n",
    "    if ((f(a) * f(b))>= 0):\n",
    "        print(\"No root present within the given interval\")\n",
    "        return\n",
    "\n",
    "    while b-a>=tolerance:\n",
    "        c= ((a+b)/2)\n",
    "        if (f(a)*f(c))<tolerance:\n",
    "            b=c\n",
    "        else:\n",
    "            a=c\n",
    "    return ((a+b)/2)\n",
    "\n",
    "print(bisection_method(f,a,b))"
   ]
  },
  {
   "cell_type": "code",
   "execution_count": 1,
   "id": "1fb19a69-e1d2-43fb-959c-758f32231620",
   "metadata": {},
   "outputs": [
    {
     "name": "stdin",
     "output_type": "stream",
     "text": [
      "The value of a=  0\n",
      "The value of b=  2\n"
     ]
    },
    {
     "ename": "TypeError",
     "evalue": "unsupported operand type(s) for ** or pow(): 'builtin_function_or_method' and 'float'",
     "output_type": "error",
     "traceback": [
      "\u001b[0;31m---------------------------------------------------------------------------\u001b[0m",
      "\u001b[0;31mTypeError\u001b[0m                                 Traceback (most recent call last)",
      "Cell \u001b[0;32mIn[1], line 24\u001b[0m\n\u001b[1;32m     21\u001b[0m             a\u001b[38;5;241m=\u001b[39mc\n\u001b[1;32m     22\u001b[0m     \u001b[38;5;28;01mreturn\u001b[39;00m ((a\u001b[38;5;241m+\u001b[39mb)\u001b[38;5;241m/\u001b[39m\u001b[38;5;241m2\u001b[39m)\n\u001b[0;32m---> 24\u001b[0m \u001b[38;5;28mprint\u001b[39m(\u001b[43mbisection_method\u001b[49m\u001b[43m(\u001b[49m\u001b[43mf\u001b[49m\u001b[43m,\u001b[49m\u001b[43ma\u001b[49m\u001b[43m,\u001b[49m\u001b[43mb\u001b[49m\u001b[43m)\u001b[49m)\n",
      "Cell \u001b[0;32mIn[1], line 12\u001b[0m, in \u001b[0;36mbisection_method\u001b[0;34m(f, a, b)\u001b[0m\n\u001b[1;32m     11\u001b[0m \u001b[38;5;28;01mdef\u001b[39;00m \u001b[38;5;21mbisection_method\u001b[39m(f,a,b):\n\u001b[0;32m---> 12\u001b[0m     \u001b[38;5;28;01mif\u001b[39;00m ((\u001b[43mf\u001b[49m\u001b[43m(\u001b[49m\u001b[43ma\u001b[49m\u001b[43m)\u001b[49m \u001b[38;5;241m*\u001b[39m f(b))\u001b[38;5;241m>\u001b[39m\u001b[38;5;241m=\u001b[39m \u001b[38;5;241m0\u001b[39m):\n\u001b[1;32m     13\u001b[0m         \u001b[38;5;28mprint\u001b[39m(\u001b[38;5;124m\"\u001b[39m\u001b[38;5;124mNo root present within the given interval\u001b[39m\u001b[38;5;124m\"\u001b[39m)\n\u001b[1;32m     14\u001b[0m         \u001b[38;5;28;01mreturn\u001b[39;00m\n",
      "Cell \u001b[0;32mIn[1], line 9\u001b[0m, in \u001b[0;36mf\u001b[0;34m(x)\u001b[0m\n\u001b[1;32m      7\u001b[0m \u001b[38;5;28;01mif\u001b[39;00m x\u001b[38;5;241m==\u001b[39m \u001b[38;5;241m0\u001b[39m:\n\u001b[1;32m      8\u001b[0m     x \u001b[38;5;241m+\u001b[39m\u001b[38;5;241m=\u001b[39m tolerance\n\u001b[0;32m----> 9\u001b[0m \u001b[38;5;28;01mreturn\u001b[39;00m ((\u001b[43m(\u001b[49m\u001b[43mmath\u001b[49m\u001b[38;5;241;43m.\u001b[39;49m\u001b[43matan\u001b[49m\u001b[43m)\u001b[49m\u001b[38;5;241;43m*\u001b[39;49m\u001b[38;5;241;43m*\u001b[39;49m\u001b[43mx\u001b[49m)\u001b[38;5;241m-\u001b[39m(x\u001b[38;5;241m*\u001b[39m\u001b[38;5;241m*\u001b[39m\u001b[38;5;241m2\u001b[39m))\n",
      "\u001b[0;31mTypeError\u001b[0m: unsupported operand type(s) for ** or pow(): 'builtin_function_or_method' and 'float'"
     ]
    }
   ],
   "source": [
    "import math\n",
    "tolerance= 0.0000000001\n",
    "a=float(input(\"The value of a= \"))\n",
    "b=float(input(\"The value of b= \"))\n",
    "\n",
    "def f(x):\n",
    "    if x== 0:\n",
    "        x += tolerance\n",
    "    return (((math.atan)**x)-(x**2))\n",
    "\n",
    "def bisection_method(f,a,b):\n",
    "    if ((f(a) * f(b))>= 0):\n",
    "        print(\"No root present within the given interval\")\n",
    "        return\n",
    "\n",
    "    while b-a>=tolerance:\n",
    "        c= ((a+b)/2)\n",
    "        if (f(a)*f(c))<tolerance:\n",
    "            b=c\n",
    "        else:\n",
    "            a=c\n",
    "    return ((a+b)/2)\n",
    "\n",
    "print(bisection_method(f,a,b))"
   ]
  },
  {
   "cell_type": "code",
   "execution_count": 1,
   "id": "7f1d832e-919d-4abb-8073-be28a986ed69",
   "metadata": {},
   "outputs": [
    {
     "name": "stdin",
     "output_type": "stream",
     "text": [
      "The value of a=  3\n",
      "The value of b=  4\n"
     ]
    },
    {
     "name": "stdout",
     "output_type": "stream",
     "text": [
      "3.1415863037400413\n"
     ]
    }
   ],
   "source": [
    "import math\n",
    "tolerance= 0.0000000001\n",
    "a=float(input(\"The value of a= \"))\n",
    "b=float(input(\"The value of b= \"))\n",
    "\n",
    "def f(x):\n",
    "    if x== 0:\n",
    "        x += tolerance\n",
    "    return ((math.sin(x))/(math.log(x)))\n",
    "\n",
    "def bisection_method(f,a,b):\n",
    "    if ((f(a) * f(b))>= 0):\n",
    "        print(\"No root present within the given interval\")\n",
    "        return\n",
    "\n",
    "    while b-a>=tolerance:\n",
    "        c= ((a+b)/2)\n",
    "        if (f(a)*f(c))<tolerance:\n",
    "            b=c\n",
    "        else:\n",
    "            a=c\n",
    "    return ((a+b)/2)\n",
    "\n",
    "print(bisection_method(f,a,b))"
   ]
  },
  {
   "cell_type": "code",
   "execution_count": 1,
   "id": "0ad125fc-6042-4f71-aca1-cf786e20bd6c",
   "metadata": {},
   "outputs": [
    {
     "name": "stdin",
     "output_type": "stream",
     "text": [
      "The value of a=  5\n",
      "The value of b=  7\n"
     ]
    },
    {
     "name": "stdout",
     "output_type": "stream",
     "text": [
      "No root present within the given interval\n",
      "None\n"
     ]
    }
   ],
   "source": [
    "import math\n",
    "tolerance= 0.0000000001\n",
    "a=float(input(\"The value of a= \"))\n",
    "b=float(input(\"The value of b= \"))\n",
    "\n",
    "def f(x):\n",
    "    if x== 0:\n",
    "        x += tolerance\n",
    "    return (math.log(math.cos(x)))\n",
    "\n",
    "def bisection_method(f,a,b):\n",
    "    if ((f(a) * f(b))>= 0):\n",
    "        print(\"No root present within the given interval\")\n",
    "        return\n",
    "\n",
    "    while b-a>=tolerance:\n",
    "        c= ((a+b)/2)\n",
    "        if (f(a)*f(c))<tolerance:\n",
    "            b=c\n",
    "        else:\n",
    "            a=c\n",
    "    return ((a+b)/2)\n",
    "\n",
    "print(bisection_method(f,a,b))"
   ]
  },
  {
   "cell_type": "code",
   "execution_count": null,
   "id": "009b19c2-91a2-435f-9336-8c0271b67121",
   "metadata": {},
   "outputs": [],
   "source": []
  }
 ],
 "metadata": {
  "kernelspec": {
   "display_name": "Python 3 (ipykernel)",
   "language": "python",
   "name": "python3"
  },
  "language_info": {
   "codemirror_mode": {
    "name": "ipython",
    "version": 3
   },
   "file_extension": ".py",
   "mimetype": "text/x-python",
   "name": "python",
   "nbconvert_exporter": "python",
   "pygments_lexer": "ipython3",
   "version": "3.11.4"
  }
 },
 "nbformat": 4,
 "nbformat_minor": 5
}
