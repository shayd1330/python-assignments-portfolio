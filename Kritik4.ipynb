{
 "cells": [
  {
   "cell_type": "code",
   "execution_count": 4,
   "id": "b81efe66-b976-4893-88cc-864f8afd4403",
   "metadata": {},
   "outputs": [
    {
     "ename": "NameError",
     "evalue": "name 'x' is not defined",
     "output_type": "error",
     "traceback": [
      "\u001b[0;31m---------------------------------------------------------------------------\u001b[0m",
      "\u001b[0;31mNameError\u001b[0m                                 Traceback (most recent call last)",
      "Cell \u001b[0;32mIn[4], line 7\u001b[0m\n\u001b[1;32m      5\u001b[0m learning_rate\u001b[38;5;241m=\u001b[39m\u001b[38;5;241m0.01\u001b[39m\n\u001b[1;32m      6\u001b[0m initial_point\u001b[38;5;241m=\u001b[39m\u001b[38;5;241m1.0\u001b[39m\n\u001b[0;32m----> 7\u001b[0m derivative\u001b[38;5;241m=\u001b[39m \u001b[38;5;241m2\u001b[39m\u001b[38;5;241m*\u001b[39m\u001b[43mx\u001b[49m\n\u001b[1;32m     10\u001b[0m \u001b[38;5;66;03m#define the function\u001b[39;00m\n\u001b[1;32m     11\u001b[0m \u001b[38;5;28;01mdef\u001b[39;00m \u001b[38;5;21mgradient_descent\u001b[39m(f, learning_rate, initial_point):\n",
      "\u001b[0;31mNameError\u001b[0m: name 'x' is not defined"
     ]
    }
   ],
   "source": [
    "import matplotlib.pyplot as plt\n",
    "import numpy as np \n",
    "\n",
    "#assigning term values\n",
    "learning_rate=0.01\n",
    "initial_point=1.0\n",
    "derivative= 2*x\n",
    "\n",
    "\n",
    "#define the function\n",
    "def gradient_descent(f, learning_rate, initial_point):\n",
    "    \n",
    "    def derivative(f, base_point): #define the derivative function and return the function\n",
    "        return (f(base_point+10**(-5))-f(base_point))/(10**(-5))\n",
    "\n",
    "    x_coords=[initial_point] #store the numbers in the x\n",
    "    y_coords=[f(initial_point)] #store the numbers in the y\n",
    "\n",
    "point=initial_point-learning_rate*derivative(f, initial_point)\n",
    "#start while loop to have python run through 1000 interations to determine the slope within ranges I have not determined yet\n",
    "for i in range(1000):\n",
    "    x_coords.append(point)\n",
    "    y_coords.append(f(point))\n",
    "    \n",
    "point=point-learning_rate*deriv(f,point) #introduced again so the code updates with new values\n",
    "\n",
    "if deriv(f,point)<0.0001:\n",
    "        \n",
    "    return deriv\n",
    "\n",
    "\n",
    "    def f(x):\n",
    "        if x>0:\n",
    "            return x**2\n",
    "        elif x==0:\n",
    "            return 1\n",
    "        else: \n",
    "            return abs(x)**abs(2)\n",
    "\n",
    "\n",
    "\n",
    "plot_range=np.linspace(min(x_coords)-0.5,\n",
    "                        max(x_coords)+0.5, 1000)\n",
    "function_range=[f(i) for i in plot_range]\n",
    "plt.plot(plot_range, function_range) #plot the fucntion f(x)\n",
    "plt.plot(x_coords, y_coords) #plot the points of the sequence\n",
    "\n",
    "return round(x_coords[-1],3), round(y_coords[-1],3) #return the last calcualted points to three decimal places"
   ]
  },
  {
   "cell_type": "code",
   "execution_count": null,
   "id": "6c58f7f1-e0be-451a-8e5b-71b2f9fdfaff",
   "metadata": {},
   "outputs": [],
   "source": []
  },
  {
   "cell_type": "code",
   "execution_count": null,
   "id": "e4d73a10-d10e-437e-9879-d408cdffa263",
   "metadata": {},
   "outputs": [],
   "source": []
  }
 ],
 "metadata": {
  "kernelspec": {
   "display_name": "Python 3 (ipykernel)",
   "language": "python",
   "name": "python3"
  },
  "language_info": {
   "codemirror_mode": {
    "name": "ipython",
    "version": 3
   },
   "file_extension": ".py",
   "mimetype": "text/x-python",
   "name": "python",
   "nbconvert_exporter": "python",
   "pygments_lexer": "ipython3",
   "version": "3.11.4"
  }
 },
 "nbformat": 4,
 "nbformat_minor": 5
}
