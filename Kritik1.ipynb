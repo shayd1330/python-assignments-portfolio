{
 "cells": [
  {
   "cell_type": "code",
   "execution_count": 6,
   "id": "aef25387-c773-4cd1-8aa3-a1893fabad3d",
   "metadata": {},
   "outputs": [
    {
     "name": "stdout",
     "output_type": "stream",
     "text": [
      "error\n",
      "0.0 1 0.0\n",
      "0.24498697916666665 3 8.719308035714285e-06\n",
      "0.46368427579365074 5 4.438920454545455e-05\n",
      "0.6435394700943785 11 5.816761029294689e-05\n",
      "0.7853481633979478 5000 9.999000099990002e-05\n"
     ]
    }
   ],
   "source": [
    "def thearctanapprox (s): \n",
    "    functionvariable=((-1)**i*x**(2*i+1))/(2*i+1)\n",
    "    return(functionvariable)\n",
    "\n",
    "vals = [-1, 0, 0.25, 0.5, 0.75, 1]\n",
    "for j in range (0, len(vals)):\n",
    "    x = vals[j]\n",
    "    n=0\n",
    "    if (0<=x<=1): \n",
    "        i=0\n",
    "        a=thearctanapprox (i)\n",
    "        n+=1\n",
    "        error_bound=x**(2*n+1)/(2*n+1)\n",
    "        while (error_bound>0.0001):\n",
    "            i=i+1\n",
    "            a+=thearctanapprox(i)\n",
    "            n+=1\n",
    "            error_bound=x**(2*n+1)/(2*n+1)\n",
    "        print(a,n,error_bound) \n",
    "    else:\n",
    "        print(\"error\")"
   ]
  },
  {
   "cell_type": "code",
   "execution_count": 30,
   "id": "38713d74-3fc1-4ecc-b138-9606e28dfc74",
   "metadata": {},
   "outputs": [
    {
     "ename": "NameError",
     "evalue": "name 'e' is not defined",
     "output_type": "error",
     "traceback": [
      "\u001b[0;31m---------------------------------------------------------------------------\u001b[0m",
      "\u001b[0;31mNameError\u001b[0m                                 Traceback (most recent call last)",
      "Cell \u001b[0;32mIn[30], line 26\u001b[0m\n\u001b[1;32m     22\u001b[0m         \u001b[38;5;66;03m#so python know whe to stop the loop\u001b[39;00m\n\u001b[1;32m     23\u001b[0m     \u001b[38;5;28;01melse\u001b[39;00m:\n\u001b[1;32m     24\u001b[0m         \u001b[38;5;28mprint\u001b[39m (\u001b[38;5;124m\"\u001b[39m\u001b[38;5;124mno solution found\u001b[39m\u001b[38;5;124m\"\u001b[39m)\n\u001b[0;32m---> 26\u001b[0m answer\u001b[38;5;241m=\u001b[39mrootsfunction(((\u001b[43me\u001b[49m\u001b[38;5;241m*\u001b[39m\u001b[38;5;241m*\u001b[39mx)\u001b[38;5;241m+\u001b[39m(ln\u001b[38;5;241m*\u001b[39mx)),\u001b[38;5;241m0\u001b[39m,\u001b[38;5;241m1\u001b[39m)\n\u001b[1;32m     27\u001b[0m \u001b[38;5;28mprint\u001b[39m(\u001b[38;5;124m\"\u001b[39m\u001b[38;5;124mRoot found at x=\u001b[39m\u001b[38;5;124m\"\u001b[39m), error\n",
      "\u001b[0;31mNameError\u001b[0m: name 'e' is not defined"
     ]
    }
   ],
   "source": [
    "def rootsfunction(f,a,b):\n",
    "    e=2.718281828\n",
    "    functionuno=((e**x)+(ln*x))\n",
    "    return(functionuno)\n",
    "    \n",
    "a=0\n",
    "b=1\n",
    "(error)=(a-b) \n",
    "while (error)>=(0):\n",
    "    #calculate new midpoint(c)\n",
    "    c=((a+b)/(2))\n",
    "    #what about the cases?\n",
    "    if f(a)*f(b)>=0:\n",
    "        #if f(a)*f(b)(the product) is greater than or equal to zero(acceptable error/tolerance); means the product is positive(i.e. same side of x-axis), therefore no roots and a=c  \n",
    "        a=c \n",
    "        print (\"no root, or <1 root present\")\n",
    "        \n",
    "        #elif means if the previous condiditons were not met, then try the following condition\n",
    "    elif (f(a)*f(c))<=0:\n",
    "        b=c\n",
    "        error= (b-a)\n",
    "        #so python know whe to stop the loop\n",
    "    else:\n",
    "        print (\"no solution found\")\n",
    "\n",
    "answer=rootsfunction(((e**x)+(ln*x)),0,1)\n",
    "print(\"Root found at x=\"), error"
   ]
  },
  {
   "cell_type": "code",
   "execution_count": null,
   "id": "71c0ca57-6f86-463b-b8fd-83ef6fec28da",
   "metadata": {},
   "outputs": [],
   "source": []
  },
  {
   "cell_type": "code",
   "execution_count": null,
   "id": "6527a636-2505-4a98-914e-948aac4448ff",
   "metadata": {},
   "outputs": [],
   "source": []
  }
 ],
 "metadata": {
  "kernelspec": {
   "display_name": "Python 3 (ipykernel)",
   "language": "python",
   "name": "python3"
  },
  "language_info": {
   "codemirror_mode": {
    "name": "ipython",
    "version": 3
   },
   "file_extension": ".py",
   "mimetype": "text/x-python",
   "name": "python",
   "nbconvert_exporter": "python",
   "pygments_lexer": "ipython3",
   "version": "3.11.4"
  }
 },
 "nbformat": 4,
 "nbformat_minor": 5
}
