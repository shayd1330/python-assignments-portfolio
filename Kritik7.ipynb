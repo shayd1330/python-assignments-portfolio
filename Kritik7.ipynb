{
 "cells": [
  {
   "cell_type": "code",
   "execution_count": null,
   "id": "0c78eac1-de4a-4469-ae25-7d63371447d1",
   "metadata": {},
   "outputs": [],
   "source": [
    "Import numpy as np\n",
    "from scipy.special import gamma\n",
    "\n",
    "#calculate the t-distribution\n",
    "def t_distribution_pdf(x, nu):\n",
    "    coeff = gamma((nu + 1) / 2) / (np.sqrt(nu * np.pi) * gamma(nu / 2))\n",
    "    density = coeff * (1 + x**2 / nu) ** (-0.5 * (nu + 1))\n",
    "    return density\n",
    "\n",
    "list_of_test_scores=[92.64,79.00,84.79,97.41,93.68,65.23,84.50,73.49,73.97,79.11]\n",
    "national_average_score=75\n",
    "\n",
    "#calculate the mean of the test scores\n",
    "def mean_calculation(list_of_test_scores):\n",
    "    mean_value= sum(list_of_test_scores)/len(list_of_test_scores)\n",
    "    return mean_value\n",
    "print (\"The mean of the sample is: \",mean_value)\n",
    "\n",
    "#calculate the standard deviation of the test scores\n",
    "def standard_deviation(list_of_test_scores):\n",
    "    deviation= sum((x - mean_value)** 2 for x in list_of_test_scores) \n",
    "    return standard_deviation\n",
    "print (\"The standard deviation of the sample is: \", standard_deviation)\n",
    "\n",
    "#compute the t0 value\n",
    "given_test_samples=len(list_of_test_scores)\n",
    "\n",
    "def find_t_star(prob, nu, x_start=0, x_end=20, num_points=10000):\n",
    "    # Define the x values\n",
    "    x = np.linspace(x_start, x_end, num_points)\n",
    "    # Apply the density function to the x values\n",
    "    y = t_distribution_pdf(x, nu)\n",
    "    # This next line is the integration (exercise: why does this work?)\n",
    "    cdf = np.cumsum(y) * (x[1] - x[0])\n",
    "    # Find the t-value where the cumulative probability reaches half of the required probability\n",
    "    target_half_prob = prob / 2\n",
    "    index = np.where(cdf >= target_half_prob)[0][0]\n",
    "    return x[index]\n",
    "\n",
    "def return_true_function(ti, t_star):\n",
    "    while -t_star<ti<t_star:\n",
    "        print (\"True\")\n",
    "        return True\n",
    "    else:\n",
    "        print (\"False\")\n",
    "        return False \n",
    "\n",
    "\n"
   ]
  },
  {
   "cell_type": "code",
   "execution_count": 2,
   "id": "0fbc853a-c582-47c5-a379-371d83b6d187",
   "metadata": {
    "scrolled": true
   },
   "outputs": [
    {
     "ename": "NameError",
     "evalue": "name 'mean_value' is not defined",
     "output_type": "error",
     "traceback": [
      "\u001b[0;31m---------------------------------------------------------------------------\u001b[0m",
      "\u001b[0;31mNameError\u001b[0m                                 Traceback (most recent call last)",
      "Cell \u001b[0;32mIn[2], line 11\u001b[0m\n\u001b[1;32m      9\u001b[0m     mean_value\u001b[38;5;241m=\u001b[39m \u001b[38;5;28msum\u001b[39m(list_of_test_scores)\u001b[38;5;241m/\u001b[39m\u001b[38;5;28mlen\u001b[39m(list_of_test_scores)\n\u001b[1;32m     10\u001b[0m     \u001b[38;5;28;01mreturn\u001b[39;00m mean_value\n\u001b[0;32m---> 11\u001b[0m \u001b[38;5;28mprint\u001b[39m (\u001b[38;5;124m\"\u001b[39m\u001b[38;5;124mThe mean of the sample is: \u001b[39m\u001b[38;5;124m\"\u001b[39m,\u001b[43mmean_value\u001b[49m)\n",
      "\u001b[0;31mNameError\u001b[0m: name 'mean_value' is not defined"
     ]
    }
   ],
   "source": [
    "import numpy as np\n",
    "from scipy.special import gamma\n",
    "\n",
    "list_of_test_scores=[92.64,79.00,84.79,97.41,93.68,65.23,84.50,73.49,73.97,79.11]\n",
    "national_average_score=75\n",
    "\n"
   ]
  },
  {
   "cell_type": "code",
   "execution_count": null,
   "id": "e298d335-df44-4de2-afc1-a8e400db3b8f",
   "metadata": {},
   "outputs": [],
   "source": []
  }
 ],
 "metadata": {
  "kernelspec": {
   "display_name": "Python 3 (ipykernel)",
   "language": "python",
   "name": "python3"
  },
  "language_info": {
   "codemirror_mode": {
    "name": "ipython",
    "version": 3
   },
   "file_extension": ".py",
   "mimetype": "text/x-python",
   "name": "python",
   "nbconvert_exporter": "python",
   "pygments_lexer": "ipython3",
   "version": "3.11.4"
  }
 },
 "nbformat": 4,
 "nbformat_minor": 5
}
