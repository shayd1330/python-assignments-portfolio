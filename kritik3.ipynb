{
 "cells": [
  {
   "cell_type": "code",
   "execution_count": 1,
   "id": "b12254e3-cd4e-4de5-ac10-a2e5f2605cec",
   "metadata": {},
   "outputs": [
    {
     "data": {
      "text/plain": [
       "(0.999, 1.001)"
      ]
     },
     "execution_count": 1,
     "metadata": {},
     "output_type": "execute_result"
    }
   ],
   "source": [
    "import math\n",
    "import numpy\n",
    "\n",
    "def f(x):\n",
    "    return x**2\n",
    "\n",
    "c = float(1)\n",
    "E = float(0.1)\n",
    "works1 = False\n",
    "works2 = False\n",
    "\n",
    "def function(f, c, E):\n",
    "    delta_x = (10**-8)\n",
    "\n",
    "    def derivative_function(x):\n",
    "        func = ((f(x + delta_x) - f(x - delta_x)) / (2*delta_x))\n",
    "        return func\n",
    "\n",
    "    def linear_approx_function(x):\n",
    "        linear_approx = ((f(c)) + ((derivative_function(c))*(x - c)))\n",
    "        return linear_approx\n",
    "\n",
    "    for m in range(250):\n",
    "        x1= (c - 0.001)\n",
    "        while abs(f(x1) - linear_approx_function(x1)) <= E:\n",
    "            works1 = True\n",
    "            break\n",
    "\n",
    "    for n in range(250):\n",
    "        x2= (c + 0.001)\n",
    "        while abs(f(x2) - linear_approx_function(x2)) <= E:\n",
    "            works2 = True\n",
    "            break\n",
    "    \n",
    "    if works1 == False or works2 == False:\n",
    "        print(\"No reasonable x1 and x2 found within the provided range, consider adjusting the range\")\n",
    "   \n",
    "    return (x1, x2)\n",
    "\n",
    "(function(f, c, E))"
   ]
  },
  {
   "cell_type": "code",
   "execution_count": null,
   "id": "c29c1b2b-ffd4-4add-bff2-f7a982b14404",
   "metadata": {},
   "outputs": [],
   "source": [
    "import math\n",
    "import numpy\n",
    "\n",
    "def f(x):\n",
    "    return math.sin(x)\n",
    "\n",
    "c = float((math.pi) / (4))\n",
    "E = float(0.05)\n",
    "works1 = False\n",
    "works2 = False\n",
    "\n",
    "def function(f, c, E):\n",
    "    delta_x = (10**-8)\n",
    "\n",
    "    def derivative_function(x):\n",
    "        func = ((f(x + delta_x) - f(x - delta_x)) / (2*delta_x))\n",
    "        return func\n",
    "\n",
    "    def linear_approx_function(x):\n",
    "        linear_approx = ((f(c)) + ((derivative_function(c))*(x - c)))\n",
    "        return linear_approx\n",
    "\n",
    "    for m in range(250):\n",
    "        x1= (c - 0.001)\n",
    "        while abs(f(x1) - linear_approx_function(x1)) <= E:\n",
    "            works1 = True\n",
    "            break\n",
    "\n",
    "    for n in range(250):\n",
    "        x2= (c + 0.001)\n",
    "        while abs(f(x2) - linear_approx_function(x2)) <= E:\n",
    "            works2 = True\n",
    "            break\n",
    "    \n",
    "    if works1 == False or works2 == False:\n",
    "        print(\"No reasonable x1 and x2 found within the provided range, consider adjusting the range\")\n",
    "   \n",
    "    return (x1, x2)\n",
    "\n",
    "(function(f, c, E))"
   ]
  },
  {
   "cell_type": "code",
   "execution_count": null,
   "id": "4adf7c0d-b4d3-4314-a43c-3acec37df78c",
   "metadata": {},
   "outputs": [],
   "source": []
  }
 ],
 "metadata": {
  "kernelspec": {
   "display_name": "Python 3 (ipykernel)",
   "language": "python",
   "name": "python3"
  },
  "language_info": {
   "codemirror_mode": {
    "name": "ipython",
    "version": 3
   },
   "file_extension": ".py",
   "mimetype": "text/x-python",
   "name": "python",
   "nbconvert_exporter": "python",
   "pygments_lexer": "ipython3",
   "version": "3.11.4"
  }
 },
 "nbformat": 4,
 "nbformat_minor": 5
}
